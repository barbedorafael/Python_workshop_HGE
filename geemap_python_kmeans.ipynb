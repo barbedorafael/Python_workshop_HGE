{
  "nbformat": 4,
  "nbformat_minor": 0,
  "metadata": {
    "colab": {
      "name": "Untitled1.ipynb",
      "provenance": [],
      "collapsed_sections": [],
      "authorship_tag": "ABX9TyMVB50h7nXaijZ60ZNBdia8"
    },
    "kernelspec": {
      "name": "python3",
      "display_name": "Python 3"
    },
    "language_info": {
      "name": "python"
    }
  },
  "cells": [
    {
      "cell_type": "code",
      "execution_count": null,
      "metadata": {
        "id": "FzWczkOqZmhg"
      },
      "outputs": [],
      "source": [
        "!pip install geemap\n",
        "\n",
        "import ee\n",
        "import geemap"
      ]
    },
    {
      "cell_type": "code",
      "source": [
        "# Trigger the authentication flow.\n",
        "ee.Authenticate()\n",
        "\n",
        "# Initialize the library.\n",
        "ee.Initialize()"
      ],
      "metadata": {
        "id": "85xqv5QMc8qx"
      },
      "execution_count": null,
      "outputs": []
    },
    {
      "cell_type": "code",
      "source": [
        "# Takes an image collection and returns a collection with monthly means\n",
        "def col2monthly(col):\n",
        "    \n",
        "    def monthly(m):\n",
        "        return (col.filter(ee.Filter.calendarRange(y_start, y_end, 'year'))\n",
        "                .filter(ee.Filter.calendarRange(m, m, 'month')).mean()\n",
        "                .set('month', m)\n",
        "                .set('ID', ee.Number(m).format('%02d'))\n",
        "                )\n",
        "\n",
        "    \n",
        "    months = ee.List.sequence(1, 12)\n",
        "    col_m = ee.ImageCollection.fromImages(months.map(monthly).flatten())\n",
        "    \n",
        "    return col_m\n",
        "\n",
        "def grid2scale(img):\n",
        "    return img.reproject(crs='EPSG:4326', scale=scale)\n",
        "\n",
        "# Parameters for computation\n",
        "y_start = 2001\n",
        "y_end = 2020\n",
        "scale = 11100\n"
      ],
      "metadata": {
        "id": "ViXUnvxnautV"
      },
      "execution_count": null,
      "outputs": []
    },
    {
      "cell_type": "code",
      "source": [
        "# Define climate variables to use for clustering\n",
        "# gives mm/h\n",
        "p = col2monthly(ee.ImageCollection(\"NASA/GPM_L3/IMERG_MONTHLY_V06\").select('precipitation')).map(grid2scale)\n",
        "\n",
        "# gives K\n",
        "t = col2monthly(ee.ImageCollection(\"ECMWF/ERA5_LAND/MONTHLY\").select('temperature_2m')).map(grid2scale)\n",
        "\n",
        "# Define region of interest (roi)\n",
        "roi = ee.FeatureCollection(\"USDOS/LSIB_SIMPLE/2017\").filter(ee.Filter.eq('country_co', 'BR'))"
      ],
      "metadata": {
        "id": "APWyucrsLJnr"
      },
      "execution_count": null,
      "outputs": []
    },
    {
      "cell_type": "code",
      "source": [
        "p.getInfo()"
      ],
      "metadata": {
        "id": "JzHnatAdJ7zH"
      },
      "execution_count": null,
      "outputs": []
    },
    {
      "cell_type": "code",
      "source": [
        "# Let's get the monthly data and calculate the following inputs:\n",
        "# annual mean monthly precipitation (P_ann),\n",
        "# annual mean LST (T_ann),\n",
        "# highest and lowest monthly precipitation (P_max, P_min)\n",
        "# highest and lowest monthly temperature (T_max, T_min)\n",
        "\n",
        "p_mean = p.mean().multiply(24*30).rename('p_avg')\n",
        "p_max = p.max().multiply(24*30).rename('p_max')\n",
        "p_min = p.min().multiply(24*30).rename('p_min')\n",
        "\n",
        "t_mean = t.mean().subtract(273).rename('t_avg')\n",
        "t_max = t.max().subtract(273).rename('t_max')\n",
        "t_min = t.min().subtract(273).rename('t_min')\n",
        "\n",
        "img_input = p_mean.addBands([p_max, p_min, t_mean, t_max, t_min]) # Lista com tudo"
      ],
      "metadata": {
        "id": "qOvcTtXrdjZH"
      },
      "execution_count": null,
      "outputs": []
    },
    {
      "cell_type": "code",
      "source": [
        "Map = geemap.Map()\n",
        "\n",
        "# Display the mean P and T\n",
        "Map.addLayer(img_input, {}, 'climate_vars')\n",
        "Map"
      ],
      "metadata": {
        "id": "Rd_Lc7QdNLNX"
      },
      "execution_count": null,
      "outputs": []
    },
    {
      "cell_type": "code",
      "source": [
        "import geemap.colormaps as gcm\n",
        "\n",
        "cmp = gcm.palettes\n",
        "parvis = {'min': 15, 'max': 30, 'palette': cmp.viridis_r}\n",
        "\n",
        "lyrname = 'Average monthly temperature'\n",
        "Map.addLayer(t_mean, parvis, lyrname)\n",
        "Map.add_colorbar(parvis, label = None, discrete=False, orientation='vertical', layer_name = lyrname)"
      ],
      "metadata": {
        "id": "I6cXpLS2QXUZ"
      },
      "execution_count": null,
      "outputs": []
    },
    {
      "cell_type": "code",
      "source": [
        "# Make the training dataset.\n",
        "training = img_input.sample(\n",
        "    region = roi,\n",
        "    scale = scale,\n",
        "    numPixels = 10000\n",
        ")\n",
        "\n",
        "# Instantiate the clusterer and train it.\n",
        "clusterer = ee.Clusterer.wekaKMeans(9).train(training)\n",
        "\n",
        "# Cluster the input using the trained clusterer.\n",
        "result = img_input.cluster(clusterer).clip(roi)"
      ],
      "metadata": {
        "id": "IuDnZvdttBxB"
      },
      "execution_count": null,
      "outputs": []
    },
    {
      "cell_type": "code",
      "source": [
        "Map = geemap.Map(center=[-14, -55], zoom=4)\n",
        "\n",
        "# Koppen climate zones\n",
        "czns = (ee.FeatureCollection('projects/et-brasil/assets/Climate_Koppen_Brasil')\n",
        "    .reduceToImage(properties=['GRIDCODE'], reducer=ee.Reducer.first())\n",
        "    )\n",
        "\n",
        "# Display the clusters with random colors.\n",
        "Map.addLayer(result.randomVisualizer(), {}, 'Climate clusters K-means')\n",
        "Map.addLayer(czns.randomVisualizer(), {}, 'Koppen Climate Zones')\n",
        "Map"
      ],
      "metadata": {
        "id": "FneWYwmpao3X"
      },
      "execution_count": null,
      "outputs": []
    },
    {
      "cell_type": "code",
      "source": [
        "Map = geemap.Map(center=[-14, -55], zoom=4)\n",
        "\n",
        "l_lyr = geemap.ee_tile_layer(result.randomVisualizer(), {}, 'Climate clusters K-means')\n",
        "r_lyr = geemap.ee_tile_layer(czns.randomVisualizer(), {}, 'Koppen Climate Zones')\n",
        "\n",
        "Map.split_map(left_layer=l_lyr, right_layer=r_lyr)\n",
        "Map"
      ],
      "metadata": {
        "id": "Jlw7YEzvcN66"
      },
      "execution_count": null,
      "outputs": []
    },
    {
      "cell_type": "code",
      "source": [
        "from google.colab import output\n",
        "output.enable_custom_widget_manager()\n",
        "\n",
        "geemap.linked_maps(rows=1, cols=2, ee_objects=[result.randomVisualizer(), czns.randomVisualizer()], \n",
        "                   center=[-14, -55], zoom=4,\n",
        "                   vis_params=[{}, {}], labels=['1', '2'])"
      ],
      "metadata": {
        "id": "V0cvvsyZdIF8"
      },
      "execution_count": null,
      "outputs": []
    }
  ]
}