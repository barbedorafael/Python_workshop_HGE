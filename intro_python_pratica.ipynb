{
  "cells": [
    {
      "cell_type": "markdown",
      "metadata": {
        "id": "view-in-github",
        "colab_type": "text"
      },
      "source": [
        "<a href=\"https://colab.research.google.com/github/barbedorafael/Python_workshop_HGE/blob/main/intro_python_pratica.ipynb\" target=\"_parent\"><img src=\"https://colab.research.google.com/assets/colab-badge.svg\" alt=\"Open In Colab\"/></a>"
      ]
    },
    {
      "cell_type": "markdown",
      "metadata": {
        "id": "Ej6LJEScviFo"
      },
      "source": [
        "## Introdução rápida de Python\n",
        "Autor: Mino Sorribas (07/fev/2022)\n",
        "\n",
        "> Conteúdo:\n",
        "*   Calculadora\n",
        "*   Variáveis\n",
        "*   Noção básica de classes e métodos\n",
        "*   Módulos (Bibliotecas)\n",
        "*   Listas\n",
        "*   Controles de fluxo: if/else, while/break, for/range/continue, enumerate\n",
        "*   Definindo funções\n",
        "*   Estruturas de dados (listas, tuplas, conjuntos, dicionários, np.array)\n",
        "*   Leitura de arquivo texto\n",
        "\n",
        ">>"
      ]
    },
    {
      "cell_type": "markdown",
      "metadata": {
        "id": "md77dpTL3Xea"
      },
      "source": [
        "### Lembretes\n",
        "1.   Células contém código-fonte (ipython) ou texto (Markdown)\n",
        "2.   \"Enter\" pula linha no editor, \"Shift-Enter\" executa conteúdo da célula\n",
        "3.   Identação de 4 espaços (ou 2 espaços)\n",
        "4.   Utilizar # para comentários em python"
      ]
    },
    {
      "cell_type": "code",
      "execution_count": 32,
      "metadata": {
        "id": "PULXvjADKEdV",
        "outputId": "b5ec5d72-56dc-4003-c5c8-b0fbd8672c48",
        "colab": {
          "base_uri": "https://localhost:8080/",
          "height": 35
        }
      },
      "outputs": [
        {
          "output_type": "execute_result",
          "data": {
            "application/vnd.google.colaboratory.intrinsic+json": {
              "type": "string"
            },
            "text/plain": [
              "'Hello HGE'"
            ]
          },
          "metadata": {},
          "execution_count": 32
        }
      ],
      "source": [
        "# Imprimindo na tela (Colab/notebooks)\n",
        "'Hello HGE'\n",
        "\n"
      ]
    },
    {
      "cell_type": "code",
      "execution_count": 33,
      "metadata": {
        "id": "aLjRjyNJMmWS",
        "outputId": "6500b435-8239-4e76-b2b6-0eed36b1ccff",
        "colab": {
          "base_uri": "https://localhost:8080/"
        }
      },
      "outputs": [
        {
          "output_type": "stream",
          "name": "stdout",
          "text": [
            "Hello HGE\n"
          ]
        }
      ],
      "source": [
        "# Imprimindo na tela (python): print()\n",
        "print('Hello HGE')\n"
      ]
    },
    {
      "cell_type": "code",
      "execution_count": 35,
      "metadata": {
        "id": "BFIXSuJC4Hp4",
        "outputId": "5d55b218-6a0f-44a0-cd76-5b11aed55472",
        "colab": {
          "base_uri": "https://localhost:8080/"
        }
      },
      "outputs": [
        {
          "output_type": "execute_result",
          "data": {
            "text/plain": [
              "104.03999999999999"
            ]
          },
          "metadata": {},
          "execution_count": 35
        }
      ],
      "source": [
        "# Python como uma calculadora\n",
        "# soma (+)\n",
        "# subtração (-)\n",
        "# multiplicação (*)\n",
        "# divisão (/)\n",
        "# resto (%)\n",
        "# divisão arredonda para inteiro (//)\n",
        "\n",
        "# Exemplos com 10 e 3\n",
        "10.2**2\n"
      ]
    },
    {
      "cell_type": "code",
      "execution_count": 38,
      "metadata": {
        "id": "QNCo0BGd4OrY",
        "outputId": "53e0b1c7-a955-47ee-c97b-6f88ddad9935",
        "colab": {
          "base_uri": "https://localhost:8080/"
        }
      },
      "outputs": [
        {
          "output_type": "stream",
          "name": "stdout",
          "text": [
            "1 10.5 python PYTHON\n"
          ]
        }
      ],
      "source": [
        "# Definindo variáveis (números e caracteres)\n",
        "# ... sempre iniciar com letra\n",
        "a = 1\n",
        "b = 10.5\n",
        "c = 'python'\n",
        "C = 'PYTHON'\n",
        "\n",
        "\n",
        "# recomendações:\n",
        "# - letras minusculas com separador '_'\n",
        "# - não utilizar CamelCase (reservado para classes)\n",
        "# exemplo:\n",
        "# vazao_media, ao invés de VazaoMedia\n",
        "\n"
      ]
    },
    {
      "cell_type": "code",
      "execution_count": 39,
      "metadata": {
        "id": "daCoeHFOH0Xf",
        "outputId": "51d8ca24-24c8-4b55-8e28-848c8ef92217",
        "colab": {
          "base_uri": "https://localhost:8080/"
        }
      },
      "outputs": [
        {
          "output_type": "stream",
          "name": "stdout",
          "text": [
            "1 10.5 python PYTHON\n"
          ]
        }
      ],
      "source": [
        "# Imprimindo as variáveis na tela\n",
        "print(a,b,c,C)\n"
      ]
    },
    {
      "cell_type": "code",
      "execution_count": 43,
      "metadata": {
        "id": "3S0Su0OeHvDQ",
        "outputId": "0e93baea-bb1b-4ebe-eb0e-9e04645c0926",
        "colab": {
          "base_uri": "https://localhost:8080/"
        }
      },
      "outputs": [
        {
          "output_type": "execute_result",
          "data": {
            "text/plain": [
              "str"
            ]
          },
          "metadata": {},
          "execution_count": 43
        }
      ],
      "source": [
        "# Verificando tipos de dados: type()\n",
        "a = 1\n",
        "type(a)\n",
        "b = 10.5\n",
        "type(b)\n",
        "c = 'python'\n",
        "type(c)"
      ]
    },
    {
      "cell_type": "code",
      "execution_count": 44,
      "metadata": {
        "id": "AiZLCiRz4OnI",
        "outputId": "e0a2dbb1-489f-4874-f2d7-07303e3cbe80",
        "colab": {
          "base_uri": "https://localhost:8080/"
        }
      },
      "outputs": [
        {
          "output_type": "stream",
          "name": "stdout",
          "text": [
            "Python\n"
          ]
        }
      ],
      "source": [
        "# Noção básica de classes e métodos\n",
        "# Uma classe associa dados (atributos) e operações num único objeto!\n",
        "# Tipicamente utilizamos .método para realizar as operações\n",
        "# Por exemplo,\n",
        "# media = dados.mean()\n",
        "\n",
        "\n",
        "# Em muitos ambientes é possível consultar diretamente (Intelisense)\n",
        "d = c.capitalize()\n",
        "print(d)\n",
        "c."
      ]
    },
    {
      "cell_type": "code",
      "execution_count": 45,
      "metadata": {
        "id": "pcLW8Xr3KlR8",
        "outputId": "ea94d0e5-ea0c-48c7-f85f-1b3eb81c8f50",
        "colab": {
          "base_uri": "https://localhost:8080/"
        }
      },
      "outputs": [
        {
          "output_type": "execute_result",
          "data": {
            "text/plain": [
              "['__add__',\n",
              " '__class__',\n",
              " '__contains__',\n",
              " '__delattr__',\n",
              " '__dir__',\n",
              " '__doc__',\n",
              " '__eq__',\n",
              " '__format__',\n",
              " '__ge__',\n",
              " '__getattribute__',\n",
              " '__getitem__',\n",
              " '__getnewargs__',\n",
              " '__gt__',\n",
              " '__hash__',\n",
              " '__init__',\n",
              " '__init_subclass__',\n",
              " '__iter__',\n",
              " '__le__',\n",
              " '__len__',\n",
              " '__lt__',\n",
              " '__mod__',\n",
              " '__mul__',\n",
              " '__ne__',\n",
              " '__new__',\n",
              " '__reduce__',\n",
              " '__reduce_ex__',\n",
              " '__repr__',\n",
              " '__rmod__',\n",
              " '__rmul__',\n",
              " '__setattr__',\n",
              " '__sizeof__',\n",
              " '__str__',\n",
              " '__subclasshook__',\n",
              " 'capitalize',\n",
              " 'casefold',\n",
              " 'center',\n",
              " 'count',\n",
              " 'encode',\n",
              " 'endswith',\n",
              " 'expandtabs',\n",
              " 'find',\n",
              " 'format',\n",
              " 'format_map',\n",
              " 'index',\n",
              " 'isalnum',\n",
              " 'isalpha',\n",
              " 'isascii',\n",
              " 'isdecimal',\n",
              " 'isdigit',\n",
              " 'isidentifier',\n",
              " 'islower',\n",
              " 'isnumeric',\n",
              " 'isprintable',\n",
              " 'isspace',\n",
              " 'istitle',\n",
              " 'isupper',\n",
              " 'join',\n",
              " 'ljust',\n",
              " 'lower',\n",
              " 'lstrip',\n",
              " 'maketrans',\n",
              " 'partition',\n",
              " 'replace',\n",
              " 'rfind',\n",
              " 'rindex',\n",
              " 'rjust',\n",
              " 'rpartition',\n",
              " 'rsplit',\n",
              " 'rstrip',\n",
              " 'split',\n",
              " 'splitlines',\n",
              " 'startswith',\n",
              " 'strip',\n",
              " 'swapcase',\n",
              " 'title',\n",
              " 'translate',\n",
              " 'upper',\n",
              " 'zfill']"
            ]
          },
          "metadata": {},
          "execution_count": 45
        }
      ],
      "source": [
        "# Mostrando os métodos na tela\n",
        "dir(c)"
      ]
    },
    {
      "cell_type": "code",
      "source": [
        "help(c.capitalize)"
      ],
      "metadata": {
        "id": "_V22gmwAi3De",
        "outputId": "aac8da89-d790-4720-d20c-75f6a56d74ba",
        "colab": {
          "base_uri": "https://localhost:8080/"
        }
      },
      "execution_count": 47,
      "outputs": [
        {
          "output_type": "stream",
          "name": "stdout",
          "text": [
            "Help on built-in function capitalize:\n",
            "\n",
            "capitalize() method of builtins.str instance\n",
            "    Return a capitalized version of the string.\n",
            "    \n",
            "    More specifically, make the first character have upper case and the rest lower\n",
            "    case.\n",
            "\n"
          ]
        }
      ]
    },
    {
      "cell_type": "code",
      "execution_count": 51,
      "metadata": {
        "id": "j6CLofySKdB-",
        "outputId": "b868d960-5803-4bfd-85ac-196d45a4773f",
        "colab": {
          "base_uri": "https://localhost:8080/"
        }
      },
      "outputs": [
        {
          "output_type": "stream",
          "name": "stdout",
          "text": [
            "python\n"
          ]
        }
      ],
      "source": [
        "# Exemplos\n",
        "C = 'PYTHON'\n",
        "C\n",
        "print(C.lower())\n",
        "#c.upper()\n",
        "#c.capitalize()"
      ]
    },
    {
      "cell_type": "code",
      "execution_count": null,
      "metadata": {
        "id": "qUZLFBfdLUHk"
      },
      "outputs": [],
      "source": [
        "# Listas de dados: list(), []\n",
        "\n"
      ]
    },
    {
      "cell_type": "code",
      "execution_count": 68,
      "metadata": {
        "id": "g2iWOEH6G_Mn",
        "colab": {
          "base_uri": "https://localhost:8080/"
        },
        "outputId": "700ebe31-8783-4185-e0c2-f4bf282a2402"
      },
      "outputs": [
        {
          "output_type": "execute_result",
          "data": {
            "text/plain": [
              "['ovos', 'farinha', 'chocolate', 'leite condensado', 'morango']"
            ]
          },
          "metadata": {},
          "execution_count": 68
        }
      ],
      "source": [
        "# Teste os métodos  .pop e .append para uma variável lista\n",
        "mercado = ['ovos', 'farinha', 'chocolate', 'leite condensado']\n",
        "lista_nova = [1,'ovos',10.5,mercado]\n",
        "#print(lista_nova)\n",
        "\n",
        "mercado.append('morango')\n",
        "mercado\n"
      ]
    },
    {
      "cell_type": "code",
      "execution_count": 62,
      "metadata": {
        "id": "eAwe4e0wO-vC",
        "outputId": "cea0bf18-cec8-40db-a7ef-70e58bbc34ab",
        "colab": {
          "base_uri": "https://localhost:8080/"
        }
      },
      "outputs": [
        {
          "output_type": "stream",
          "name": "stdout",
          "text": [
            "farinha\n"
          ]
        }
      ],
      "source": [
        "# Acessando os dados da lista\n",
        "numeros = [10,20,30,40]\n",
        "numeros[0]\n",
        "numeros[3]\n",
        "numeros[-1]\n",
        "numeros[-2]\n",
        "m = lista_nova[-1][1]\n",
        "print(m)"
      ]
    },
    {
      "cell_type": "code",
      "execution_count": 69,
      "metadata": {
        "id": "12r5AXZoPMap",
        "outputId": "dab4f18e-a146-4795-93d3-c55c9f7d7bfb",
        "colab": {
          "base_uri": "https://localhost:8080/",
          "height": 201
        }
      },
      "outputs": [
        {
          "output_type": "error",
          "ename": "TypeError",
          "evalue": "ignored",
          "traceback": [
            "\u001b[0;31m---------------------------------------------------------------------------\u001b[0m",
            "\u001b[0;31mTypeError\u001b[0m                                 Traceback (most recent call last)",
            "\u001b[0;32m<ipython-input-69-9d205ca11b8a>\u001b[0m in \u001b[0;36m<module>\u001b[0;34m()\u001b[0m\n\u001b[1;32m      5\u001b[0m \u001b[0;31m#numeros + [40,30,20,10]\u001b[0m\u001b[0;34m\u001b[0m\u001b[0;34m\u001b[0m\u001b[0;34m\u001b[0m\u001b[0m\n\u001b[1;32m      6\u001b[0m \u001b[0;31m#numeros + [50]\u001b[0m\u001b[0;34m\u001b[0m\u001b[0;34m\u001b[0m\u001b[0;34m\u001b[0m\u001b[0m\n\u001b[0;32m----> 7\u001b[0;31m \u001b[0mnumeros\u001b[0m \u001b[0;34m+\u001b[0m \u001b[0;36m10\u001b[0m\u001b[0;34m\u001b[0m\u001b[0;34m\u001b[0m\u001b[0m\n\u001b[0m",
            "\u001b[0;31mTypeError\u001b[0m: can only concatenate list (not \"int\") to list"
          ]
        }
      ],
      "source": [
        "# Operadores + e * em listas\n",
        "# quais os resultados para as operações abaixo?\n",
        "numeros = [10,20,30,40]\n",
        "#numeros*2\n",
        "#numeros + [40,30,20,10]\n",
        "#numeros + [50]\n",
        "numeros + 10"
      ]
    },
    {
      "cell_type": "code",
      "execution_count": 73,
      "metadata": {
        "id": "QU9ftowy5Ftw",
        "outputId": "11623da6-3eb0-4a4d-8cb7-ad9748ee8611",
        "colab": {
          "base_uri": "https://localhost:8080/"
        }
      },
      "outputs": [
        {
          "output_type": "execute_result",
          "data": {
            "text/plain": [
              "2.5"
            ]
          },
          "metadata": {},
          "execution_count": 73
        }
      ],
      "source": [
        "# Importando bibliotecas\n",
        "import math\n",
        "import numpy\n",
        "math.pi\n",
        "x = numpy.array([1,2,3,4])\n",
        "\n"
      ]
    },
    {
      "cell_type": "code",
      "execution_count": 79,
      "metadata": {
        "id": "7KoKw1-cNrg0",
        "outputId": "ad27bb86-4a17-435a-9ea8-6a5637cdb311",
        "colab": {
          "base_uri": "https://localhost:8080/"
        }
      },
      "outputs": [
        {
          "output_type": "execute_result",
          "data": {
            "text/plain": [
              "32"
            ]
          },
          "metadata": {},
          "execution_count": 79
        }
      ],
      "source": [
        "# Importando partes e utilizando \"alias\" (apelidos)\n",
        "from math import sqrt\n",
        "#from numpy import *\n",
        "import numpy as np\n",
        "import scipy\n",
        "#from matplotlib.pyplot import plt\n",
        "\n",
        "a = np.array([1,2,3])\n",
        "b = np.array([4,5,6])\n",
        "\n",
        "a.dot(b)\n",
        "a*b\n"
      ]
    },
    {
      "cell_type": "code",
      "execution_count": null,
      "metadata": {
        "id": "axN-6Lc7LBfE"
      },
      "outputs": [],
      "source": [
        "# Help! help()\n",
        "#help(sqrt)"
      ]
    },
    {
      "cell_type": "code",
      "execution_count": 88,
      "metadata": {
        "id": "7vXP2zU4LSNi",
        "outputId": "ab809e69-cc4d-4417-8ebe-ba50c5a0b740",
        "colab": {
          "base_uri": "https://localhost:8080/"
        }
      },
      "outputs": [
        {
          "output_type": "execute_result",
          "data": {
            "text/plain": [
              "array([20.        , 20.2020202 , 20.4040404 , 20.60606061, 20.80808081,\n",
              "       21.01010101, 21.21212121, 21.41414141, 21.61616162, 21.81818182,\n",
              "       22.02020202, 22.22222222, 22.42424242, 22.62626263, 22.82828283,\n",
              "       23.03030303, 23.23232323, 23.43434343, 23.63636364, 23.83838384,\n",
              "       24.04040404, 24.24242424, 24.44444444, 24.64646465, 24.84848485,\n",
              "       25.05050505, 25.25252525, 25.45454545, 25.65656566, 25.85858586,\n",
              "       26.06060606, 26.26262626, 26.46464646, 26.66666667, 26.86868687,\n",
              "       27.07070707, 27.27272727, 27.47474747, 27.67676768, 27.87878788,\n",
              "       28.08080808, 28.28282828, 28.48484848, 28.68686869, 28.88888889,\n",
              "       29.09090909, 29.29292929, 29.49494949, 29.6969697 , 29.8989899 ,\n",
              "       30.1010101 , 30.3030303 , 30.50505051, 30.70707071, 30.90909091,\n",
              "       31.11111111, 31.31313131, 31.51515152, 31.71717172, 31.91919192,\n",
              "       32.12121212, 32.32323232, 32.52525253, 32.72727273, 32.92929293,\n",
              "       33.13131313, 33.33333333, 33.53535354, 33.73737374, 33.93939394,\n",
              "       34.14141414, 34.34343434, 34.54545455, 34.74747475, 34.94949495,\n",
              "       35.15151515, 35.35353535, 35.55555556, 35.75757576, 35.95959596,\n",
              "       36.16161616, 36.36363636, 36.56565657, 36.76767677, 36.96969697,\n",
              "       37.17171717, 37.37373737, 37.57575758, 37.77777778, 37.97979798,\n",
              "       38.18181818, 38.38383838, 38.58585859, 38.78787879, 38.98989899,\n",
              "       39.19191919, 39.39393939, 39.5959596 , 39.7979798 , 40.        ])"
            ]
          },
          "metadata": {},
          "execution_count": 88
        }
      ],
      "source": [
        "# Criando uma lista/vetor de 1..N\n",
        "lista = [1,2,3,4,5,6]\n",
        "\n",
        "a = range(10)\n",
        "x  =list(a)\n",
        "x\n",
        "\n",
        "from numpy import linspace\n",
        "\n",
        "# com numpy: np.arange, np.linspace\n",
        "np.arange(10).reshape(5,2)\n",
        "np.linspace(20,40,100)\n"
      ]
    },
    {
      "cell_type": "code",
      "execution_count": 93,
      "metadata": {
        "id": "BKzomcb84Obg",
        "outputId": "77fd27e0-4bd3-4d57-d520-69af4cda8424",
        "colab": {
          "base_uri": "https://localhost:8080/",
          "height": 131
        }
      },
      "outputs": [
        {
          "output_type": "error",
          "ename": "IndentationError",
          "evalue": "ignored",
          "traceback": [
            "\u001b[0;36m  File \u001b[0;32m\"<ipython-input-93-c3b9451af1d8>\"\u001b[0;36m, line \u001b[0;32m6\u001b[0m\n\u001b[0;31m    print('muito bom')\u001b[0m\n\u001b[0m        ^\u001b[0m\n\u001b[0;31mIndentationError\u001b[0m\u001b[0;31m:\u001b[0m expected an indented block\n"
          ]
        }
      ],
      "source": [
        "# Controles de fluxo\n",
        "# if/then/else/elif\n",
        "modelo = 'mgb'\n",
        "#!=  >= <=  > <\n",
        "if modelo=='mgb':\n",
        "    print('muito bom')\n",
        "\n"
      ]
    },
    {
      "cell_type": "code",
      "execution_count": 95,
      "metadata": {
        "id": "__NpcC7eOExk",
        "outputId": "64f1e5fd-b179-4df0-8a89-4314c479e999",
        "colab": {
          "base_uri": "https://localhost:8080/"
        }
      },
      "outputs": [
        {
          "output_type": "stream",
          "name": "stdout",
          "text": [
            "1\n",
            "2\n",
            "3\n",
            "4\n"
          ]
        }
      ],
      "source": [
        "# loop condicional: while\n",
        "i = 0\n",
        "while (i<10):\n",
        "    i=i+1\n",
        "    if i==5:\n",
        "        break\n",
        "    print(i)\n",
        "\n"
      ]
    },
    {
      "cell_type": "code",
      "execution_count": 114,
      "metadata": {
        "id": "5WzGYRuWOFMh",
        "outputId": "dc46ba94-ad8e-49d5-d639-507a3ba53cae",
        "colab": {
          "base_uri": "https://localhost:8080/"
        }
      },
      "outputs": [
        {
          "output_type": "stream",
          "name": "stdout",
          "text": [
            "5\n",
            "2\n",
            "0\n",
            "1\n",
            "2\n",
            "3\n",
            "4\n",
            "5\n",
            "6\n",
            "7\n",
            "8\n",
            "9\n"
          ]
        }
      ],
      "source": [
        "# loop iterativo: for/range\n",
        "# andando no tempo de 1 a numero de intervalos\n",
        "a = range(10)\n",
        "lista = list(a)\n",
        "mercado = ['ovos', 'farinha', 'chocolate', 'leite condensado']\n",
        "#varre os items\n",
        "#for i in mercado:\n",
        "#    print(i)\n",
        "#varre os items, mas enumeracao\n",
        "#for i,v in enumerate(mercado):\n",
        "#    print(i,v)\n",
        "\n",
        "#matlab/fortran\n",
        "numero_de_items = len(mercado)\n",
        "a = np.arange(10).reshape(5,2)\n",
        "#print(a)\n",
        "m,n = a.shape\n",
        "print(m)\n",
        "print(n)\n",
        "for i in range(m):\n",
        "    for j in range(n):\n",
        "        print(a[i,j])\n",
        "\n",
        "\n"
      ]
    },
    {
      "cell_type": "code",
      "execution_count": 116,
      "metadata": {
        "id": "FK8Y4nWX4eZX",
        "outputId": "26e194a3-7315-4933-9e97-c17f6a94a9ec",
        "colab": {
          "base_uri": "https://localhost:8080/"
        }
      },
      "outputs": [
        {
          "output_type": "stream",
          "name": "stdout",
          "text": [
            "3.694849926188788\n"
          ]
        }
      ],
      "source": [
        "# Definindo funções: def()\n",
        "import numpy as np\n",
        "def manning(decliv,h,b,n):\n",
        "    A = b*h\n",
        "    P = b+2*h\n",
        "    RH = A/P\n",
        "    Q = RH**(2./3.)*np.sqrt(decliv)*A/n\n",
        "    return Q\n",
        "\n",
        "def penman_monteith():\n",
        "    return et\n",
        "\n",
        "vazao = manning(0.01,0.3,10.,0.035)\n",
        "print(vazao)"
      ]
    },
    {
      "cell_type": "code",
      "execution_count": null,
      "metadata": {
        "id": "VswHrOdt4eW3"
      },
      "outputs": [],
      "source": [
        "# Estruturas de dados:\n",
        "# listas : list(),[]\n",
        "# tuplas:  tuple(), ()\n",
        "# conjuntos: set(), {}\n",
        "# dicionários: dict(), {key:value}\n",
        "# arranjos: np.array()\n",
        "\n"
      ]
    },
    {
      "cell_type": "code",
      "execution_count": null,
      "metadata": {
        "id": "2Pglb2eQUdSM"
      },
      "outputs": [],
      "source": [
        "# Dicionários\n",
        "\n",
        "\n"
      ]
    },
    {
      "cell_type": "code",
      "execution_count": null,
      "metadata": {
        "id": "Ju5NZ8AhUfHF"
      },
      "outputs": [],
      "source": [
        "# Array/Numpy\n",
        "\n",
        "\n"
      ]
    },
    {
      "cell_type": "code",
      "execution_count": null,
      "metadata": {
        "colab": {
          "background_save": true,
          "base_uri": "https://localhost:8080/",
          "height": 38,
          "resources": {
            "http://localhost:8080/nbextensions/google.colab/files.js": {
              "data": "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",
              "headers": [
                [
                  "content-type",
                  "application/javascript"
                ]
              ],
              "ok": true,
              "status": 200,
              "status_text": ""
            }
          }
        },
        "id": "AAZFoqYiGGrS",
        "outputId": "f39d029e-adda-4058-c06e-1bb726be3256"
      },
      "outputs": [
        {
          "data": {
            "text/html": [
              "\n",
              "     <input type=\"file\" id=\"files-823347d4-7848-48a3-84fc-608f594980f2\" name=\"files[]\" multiple disabled\n",
              "        style=\"border:none\" />\n",
              "     <output id=\"result-823347d4-7848-48a3-84fc-608f594980f2\">\n",
              "      Upload widget is only available when the cell has been executed in the\n",
              "      current browser session. Please rerun this cell to enable.\n",
              "      </output>\n",
              "      <script src=\"/nbextensions/google.colab/files.js\"></script> "
            ],
            "text/plain": [
              "<IPython.core.display.HTML object>"
            ]
          },
          "metadata": {},
          "output_type": "display_data"
        },
        {
          "ename": "TypeError",
          "evalue": "ignored",
          "output_type": "error",
          "traceback": [
            "\u001b[0;31m---------------------------------------------------------------------------\u001b[0m",
            "\u001b[0;31mTypeError\u001b[0m                                 Traceback (most recent call last)",
            "\u001b[0;32m<ipython-input-143-5b2a56844592>\u001b[0m in \u001b[0;36m<module>\u001b[0;34m()\u001b[0m\n\u001b[1;32m      1\u001b[0m \u001b[0;31m# Upload de um arquivo\u001b[0m\u001b[0;34m\u001b[0m\u001b[0;34m\u001b[0m\u001b[0;34m\u001b[0m\u001b[0m\n\u001b[1;32m      2\u001b[0m \u001b[0;32mfrom\u001b[0m \u001b[0mgoogle\u001b[0m\u001b[0;34m.\u001b[0m\u001b[0mcolab\u001b[0m \u001b[0;32mimport\u001b[0m \u001b[0mfiles\u001b[0m\u001b[0;34m\u001b[0m\u001b[0;34m\u001b[0m\u001b[0m\n\u001b[0;32m----> 3\u001b[0;31m \u001b[0muploaded\u001b[0m \u001b[0;34m=\u001b[0m \u001b[0mfiles\u001b[0m\u001b[0;34m.\u001b[0m\u001b[0mupload\u001b[0m\u001b[0;34m(\u001b[0m\u001b[0;34m)\u001b[0m\u001b[0;34m\u001b[0m\u001b[0;34m\u001b[0m\u001b[0m\n\u001b[0m\u001b[1;32m      4\u001b[0m \u001b[0;34m\u001b[0m\u001b[0m\n",
            "\u001b[0;32m/usr/local/lib/python3.7/dist-packages/google/colab/files.py\u001b[0m in \u001b[0;36mupload\u001b[0;34m()\u001b[0m\n\u001b[1;32m     66\u001b[0m   \u001b[0mlocal_filenames\u001b[0m \u001b[0;34m=\u001b[0m \u001b[0mdict\u001b[0m\u001b[0;34m(\u001b[0m\u001b[0;34m)\u001b[0m\u001b[0;34m\u001b[0m\u001b[0;34m\u001b[0m\u001b[0m\n\u001b[1;32m     67\u001b[0m \u001b[0;34m\u001b[0m\u001b[0m\n\u001b[0;32m---> 68\u001b[0;31m   \u001b[0;32mwhile\u001b[0m \u001b[0mresult\u001b[0m\u001b[0;34m[\u001b[0m\u001b[0;34m'action'\u001b[0m\u001b[0;34m]\u001b[0m \u001b[0;34m!=\u001b[0m \u001b[0;34m'complete'\u001b[0m\u001b[0;34m:\u001b[0m\u001b[0;34m\u001b[0m\u001b[0;34m\u001b[0m\u001b[0m\n\u001b[0m\u001b[1;32m     69\u001b[0m     result = _output.eval_js(\n\u001b[1;32m     70\u001b[0m         'google.colab._files._uploadFilesContinue(\"{output_id}\")'.format(\n",
            "\u001b[0;31mTypeError\u001b[0m: 'NoneType' object is not subscriptable"
          ]
        }
      ],
      "source": [
        "# Upload de um arquivo\n",
        "from google.colab import files\n",
        "uploaded = files.upload()\n",
        "\n"
      ]
    },
    {
      "cell_type": "code",
      "execution_count": null,
      "metadata": {
        "colab": {
          "background_save": true
        },
        "id": "0N1EIxznGzOi"
      },
      "outputs": [],
      "source": [
        "# Ler arquivo no sistema\n",
        "with open('teste.txt') as f:\n",
        "  dados_lidos = f.readlines()\n",
        "\n",
        "  dados = []\n",
        "  #for i in dados_lidos:\n",
        "  #    dd,mm,aaaa,valor = i.split()\n",
        "  #    dados.append( [int(dd),int(mm),int(aaaa),float(valor)])\n",
        "\n"
      ]
    },
    {
      "cell_type": "code",
      "execution_count": null,
      "metadata": {
        "colab": {
          "background_save": true
        },
        "id": "ZbzTPaEUR5zE"
      },
      "outputs": [],
      "source": [
        "dados_lidos"
      ]
    },
    {
      "cell_type": "code",
      "execution_count": null,
      "metadata": {
        "colab": {
          "background_save": true
        },
        "id": "1wsOjpvxSase"
      },
      "outputs": [],
      "source": [
        "dados"
      ]
    },
    {
      "cell_type": "code",
      "execution_count": 120,
      "metadata": {
        "colab": {
          "base_uri": "https://localhost:8080/",
          "height": 35
        },
        "id": "PejJPGSnQ2JP",
        "outputId": "91537810-c774-47d2-f085-44f804502e63"
      },
      "outputs": [
        {
          "output_type": "execute_result",
          "data": {
            "application/vnd.google.colaboratory.intrinsic+json": {
              "type": "string"
            },
            "text/plain": [
              "'2022-01-01T00:00:00'"
            ]
          },
          "metadata": {},
          "execution_count": 120
        }
      ],
      "source": [
        "# Utilizando datas\n",
        "import datetime\n",
        "d = datetime.datetime(2022,1,1)\n",
        "d.isoformat()\n"
      ]
    },
    {
      "cell_type": "code",
      "execution_count": null,
      "metadata": {
        "colab": {
          "background_save": true
        },
        "id": "1QC0wbNGTiA0"
      },
      "outputs": [],
      "source": [
        "# Explorar métodos do objeto d\n",
        "\n"
      ]
    },
    {
      "cell_type": "code",
      "execution_count": null,
      "metadata": {
        "colab": {
          "background_save": true
        },
        "id": "v72VXrUVTcMe"
      },
      "outputs": [],
      "source": [
        "from datetime import datetime\n",
        "\n",
        "#converte datetime em texto\n",
        "t = datetime.strftime(d,'%Y/%m/%d')\n",
        "t\n",
        "\n",
        "# converte texto em datetime\n",
        "dd = datetime.strptime(t,'%Y%/m/%d')"
      ]
    },
    {
      "cell_type": "code",
      "execution_count": null,
      "metadata": {
        "colab": {
          "background_save": true
        },
        "id": "EYMqQUNcSsQl"
      },
      "outputs": [],
      "source": [
        "'''\n",
        "#Criando uma lista de datas a partir dos dados lidos\n",
        "datas = []\n",
        "for item in dados:\n",
        "    if item==0:\n",
        "      continue\n",
        "    dia = item[0]\n",
        "    mes = item[1]\n",
        "    ano = item[2]\n",
        "    valor = item[3]\n",
        "    #dia,mes,ano,valor = i\n",
        "    data = datetime.datetime(ano,mes,dia)\n",
        "    lista_datas.append(data)\n",
        "'''"
      ]
    },
    {
      "cell_type": "code",
      "execution_count": null,
      "metadata": {
        "colab": {
          "background_save": true
        },
        "id": "JxDVMjJNSiI9"
      },
      "outputs": [],
      "source": [
        "lista_datas"
      ]
    },
    {
      "cell_type": "code",
      "execution_count": null,
      "metadata": {
        "colab": {
          "background_save": true
        },
        "id": "bXckXcMafoP7"
      },
      "outputs": [],
      "source": [
        "# faz uma figura\n",
        "import matplotlib.pyplot as plt  #alias muito utilizado\n",
        "x = lista_datas\n",
        "y = [i[3] for i in dados]\n",
        "plt.plot(x,y)\n"
      ]
    },
    {
      "cell_type": "code",
      "execution_count": null,
      "metadata": {
        "colab": {
          "background_save": true
        },
        "id": "lhM4HSvsK-Zn"
      },
      "outputs": [],
      "source": [
        "\n",
        "# pandas para o resgate.\n",
        "import pandas as pd\n",
        "\n",
        "# lendo em dataframe\n",
        "df = pd.read_csv('teste.txt',sep=' ',header=None)\n",
        "#df = pd.read_excel('nome_arquivo.xls')\n",
        "#df = pd.read_csv('nome_arquivo.csv')\n",
        "\n",
        "# nomeia columnas\n",
        "df.columns = ['dia','mes','ano','valor'] \n",
        "\n",
        "# mostra dataframe\n",
        "df\n"
      ]
    },
    {
      "cell_type": "code",
      "execution_count": null,
      "metadata": {
        "colab": {
          "background_save": true
        },
        "id": "TqDezdDPgdrA"
      },
      "outputs": [],
      "source": [
        "# monta datetimes\n",
        "df['datas'] = df.apply(lambda row: datetime(int(row.ano),int(row.mes),int(row.dia)),axis=1)\n",
        "\n",
        "# plotagem\n",
        "df.plot(x='datas',y='valor')"
      ]
    }
  ],
  "metadata": {
    "colab": {
      "name": "intro_python.ipynb",
      "provenance": [],
      "authorship_tag": "ABX9TyPQU0RgJ97V1Vbnhs6dGKed",
      "include_colab_link": true
    },
    "kernelspec": {
      "display_name": "Python 3",
      "name": "python3"
    },
    "language_info": {
      "name": "python"
    }
  },
  "nbformat": 4,
  "nbformat_minor": 0
}